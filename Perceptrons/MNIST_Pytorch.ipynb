{
 "cells": [
  {
   "cell_type": "markdown",
   "metadata": {
    "id": "y-kxuNyo4Nhj"
   },
   "source": [
    "# 4. Multilayer Perceptron with Pytorch\n",
    "First, get an overview of the folder structure. In the main folder should be the three folders:\n",
    "* `train`\n",
    "* `val`\n",
    "* `test`\n",
    "\n",
    "\n",
    "Each of these folders contains 10 subfolders, named 0, 1, ..., 9. Each of these folders contains grayscale images in png format.\n",
    "\n",
    "## 1. Read Data\n"
   ]
  },
  {
   "cell_type": "code",
   "execution_count": 4,
   "metadata": {
    "colab": {
     "base_uri": "https://localhost:8080/"
    },
    "id": "-T6D3KcN4OE7",
    "outputId": "82a2ee5c-c80a-4781-d760-c378c4914a67"
   },
   "outputs": [],
   "source": [
    "# Um Klassendefinition auf mehrere Zellen aufteilen zu können.\n",
    "# !{sys.executable} -m pip install jdc\n",
    "import jdc\n",
    "import os\n",
    "import sys\n",
    "# Ich hab hier den pfad mit KI_Übung_4 erweitert, weil hier die Daten gespeichert waren\n",
    "root_dir = os.path.abspath('..') + os.sep + \"KI_Übung_4\"+ os.sep + \"MNIST_IMG\" + os.sep # os.getcwd() + os.sep + \"MNIST_IMG\" + os.sep"
   ]
  },
  {
   "cell_type": "markdown",
   "metadata": {},
   "source": [
    "#### Seeds setzen (optional)\n",
    "Die Gewichte der Modelle werden in der Regel zufällig belegt, außerdem werden die Samples im Dataloader oft gemischt. Somit entsteht sehr viel Zufall, sodass die Ergebnisse mit gleichen Hyperparametern stark abweichen können. Damit die Ergebnisse reproduzierbar sind, setzen wir entsprechende Seeds und deterministic-flags."
   ]
  },
  {
   "cell_type": "code",
   "execution_count": 1,
   "metadata": {},
   "outputs": [],
   "source": [
    "import numpy as np\n",
    "import torch\n",
    "import random\n",
    "\n",
    "def seed_everything(seed):\n",
    "    random.seed(seed)\n",
    "    os.environ['PYTHONHASHSEED'] = str(seed)\n",
    "    np.random.seed(seed)\n",
    "    torch.manual_seed(seed)\n",
    "    torch.cuda.manual_seed(seed)\n",
    "    torch.cuda.manual_seed_all(seed)\n",
    "    torch.backends.cudnn.deterministic = True\n",
    "    torch.backends.cudnn.benchmark = False"
   ]
  },
  {
   "cell_type": "markdown",
   "metadata": {
    "id": "-Y_F-zG55LAm"
   },
   "source": [
    "## 2. Dataloader\n",
    "Now create a subclass of the class Dataset of `torch.utils.data`. To do this, you need to override the following three methods:\n",
    "\n",
    "*   `__init__(self)` This constructor should specify the dataset we want to use. Either `train or val`\n",
    "*   `__len__(self)` The size of the Dataset.\n",
    "*   `__getitem__(self, idx)` The Parameter `idx` specifies the sample to be loaded.\n"
   ]
  },
  {
   "cell_type": "code",
   "execution_count": 2,
   "metadata": {
    "colab": {
     "base_uri": "https://localhost:8080/",
     "height": 483
    },
    "id": "hD74ZAbA5S87",
    "outputId": "e19ac994-969c-4c68-eb2a-d27ac1867a51"
   },
   "outputs": [],
   "source": [
    "import glob\n",
    "import torch\n",
    "import torchvision\n",
    "import cv2\n",
    "from tqdm import tqdm\n",
    "from torch.utils.data import Dataset\n",
    "from PIL import Image\n",
    "\n",
    "\n",
    "class Simple_Dataloader(Dataset):\n",
    "    def __init__(self, root_dir, loader_mode):\n",
    "        self.imgs = [] \n",
    "        self.img_paths = []\n",
    "        self.root_dir = root_dir\n",
    "        self.loader_mode = loader_mode\n",
    "        for i in range(10):\n",
    "            self.img_paths += glob.glob(root_dir + os.sep + loader_mode + os.sep + str(i) + '/*.png')\n",
    "        \n",
    "        self.transform = torchvision.transforms.Compose([\n",
    "            torchvision.transforms.ToTensor()\n",
    "        ])\n",
    "\n",
    "    def __len__(self):\n",
    "        return len(self.img_paths)\n",
    "\n",
    "    def __getitem__(self, idx):\n",
    "        img_path = self.img_paths[idx]\n",
    "        img = Image.open(img_path)\n",
    "        self.imgs.append(img)\n",
    "        parent_dir_path = os.path.dirname(self.img_paths[idx])\n",
    "        lbl = os.path.basename(parent_dir_path)\n",
    "        \n",
    "        # Transform PIL Image into Pytorch Tensor\n",
    "        img_torch = self.transform(img)\n",
    "        # Flatten Tensor\n",
    "        img_flattened = torch.flatten(img_torch)\n",
    "        \n",
    "        return img_flattened, torch.tensor(int(lbl))"
   ]
  },
  {
   "cell_type": "markdown",
   "metadata": {},
   "source": [
    "## 3. From Dataset to Dataloader\n"
   ]
  },
  {
   "cell_type": "code",
   "execution_count": 3,
   "metadata": {},
   "outputs": [
    {
     "ename": "NameError",
     "evalue": "name 'os' is not defined",
     "output_type": "error",
     "traceback": [
      "\u001b[0;31m---------------------------------------------------------------------------\u001b[0m",
      "\u001b[0;31mNameError\u001b[0m                                 Traceback (most recent call last)",
      "\u001b[0;32m/var/folders/k0/djxp1l7x0tnbth_69dtpqw800000gn/T/ipykernel_4178/1426711987.py\u001b[0m in \u001b[0;36m<module>\u001b[0;34m\u001b[0m\n\u001b[1;32m      2\u001b[0m \u001b[0mbatch_size_val\u001b[0m \u001b[0;34m=\u001b[0m \u001b[0;36m1\u001b[0m\u001b[0;34m\u001b[0m\u001b[0;34m\u001b[0m\u001b[0m\n\u001b[1;32m      3\u001b[0m \u001b[0;34m\u001b[0m\u001b[0m\n\u001b[0;32m----> 4\u001b[0;31m \u001b[0mseed_everything\u001b[0m\u001b[0;34m(\u001b[0m\u001b[0;36m1\u001b[0m\u001b[0;34m)\u001b[0m\u001b[0;34m\u001b[0m\u001b[0;34m\u001b[0m\u001b[0m\n\u001b[0m\u001b[1;32m      5\u001b[0m \u001b[0;34m\u001b[0m\u001b[0m\n\u001b[1;32m      6\u001b[0m \u001b[0mprint\u001b[0m\u001b[0;34m(\u001b[0m\u001b[0;34m\"Cache Data:\"\u001b[0m\u001b[0;34m)\u001b[0m\u001b[0;34m\u001b[0m\u001b[0;34m\u001b[0m\u001b[0m\n",
      "\u001b[0;32m/var/folders/k0/djxp1l7x0tnbth_69dtpqw800000gn/T/ipykernel_4178/2238927592.py\u001b[0m in \u001b[0;36mseed_everything\u001b[0;34m(seed)\u001b[0m\n\u001b[1;32m      5\u001b[0m \u001b[0;32mdef\u001b[0m \u001b[0mseed_everything\u001b[0m\u001b[0;34m(\u001b[0m\u001b[0mseed\u001b[0m\u001b[0;34m)\u001b[0m\u001b[0;34m:\u001b[0m\u001b[0;34m\u001b[0m\u001b[0;34m\u001b[0m\u001b[0m\n\u001b[1;32m      6\u001b[0m     \u001b[0mrandom\u001b[0m\u001b[0;34m.\u001b[0m\u001b[0mseed\u001b[0m\u001b[0;34m(\u001b[0m\u001b[0mseed\u001b[0m\u001b[0;34m)\u001b[0m\u001b[0;34m\u001b[0m\u001b[0;34m\u001b[0m\u001b[0m\n\u001b[0;32m----> 7\u001b[0;31m     \u001b[0mos\u001b[0m\u001b[0;34m.\u001b[0m\u001b[0menviron\u001b[0m\u001b[0;34m[\u001b[0m\u001b[0;34m'PYTHONHASHSEED'\u001b[0m\u001b[0;34m]\u001b[0m \u001b[0;34m=\u001b[0m \u001b[0mstr\u001b[0m\u001b[0;34m(\u001b[0m\u001b[0mseed\u001b[0m\u001b[0;34m)\u001b[0m\u001b[0;34m\u001b[0m\u001b[0;34m\u001b[0m\u001b[0m\n\u001b[0m\u001b[1;32m      8\u001b[0m     \u001b[0mnp\u001b[0m\u001b[0;34m.\u001b[0m\u001b[0mrandom\u001b[0m\u001b[0;34m.\u001b[0m\u001b[0mseed\u001b[0m\u001b[0;34m(\u001b[0m\u001b[0mseed\u001b[0m\u001b[0;34m)\u001b[0m\u001b[0;34m\u001b[0m\u001b[0;34m\u001b[0m\u001b[0m\n\u001b[1;32m      9\u001b[0m     \u001b[0mtorch\u001b[0m\u001b[0;34m.\u001b[0m\u001b[0mmanual_seed\u001b[0m\u001b[0;34m(\u001b[0m\u001b[0mseed\u001b[0m\u001b[0;34m)\u001b[0m\u001b[0;34m\u001b[0m\u001b[0;34m\u001b[0m\u001b[0m\n",
      "\u001b[0;31mNameError\u001b[0m: name 'os' is not defined"
     ]
    }
   ],
   "source": [
    "batch_size_train = 1 # 88\n",
    "batch_size_val = 1\n",
    "\n",
    "seed_everything(1)\n",
    "\n",
    "print(\"Cache Data:\")\n",
    "\n",
    "train_dataset = Simple_Dataloader(root_dir=root_dir, loader_mode=\"train\")\n",
    "val_dataset = Simple_Dataloader(root_dir=root_dir, loader_mode=\"val\")\n",
    "test_dataset = Simple_Dataloader(root_dir=root_dir, loader_mode=\"test\")\n",
    "\n",
    "\n",
    "train_dataloader = torch.utils.data.DataLoader(train_dataset, batch_size=batch_size_train, pin_memory=True,\n",
    "                                               shuffle=True, drop_last=False)\n",
    "\n",
    "val_dataloader = torch.utils.data.DataLoader(val_dataset, batch_size=batch_size_val, pin_memory=True,\n",
    "                                             shuffle=False, drop_last=True)\n",
    "\n",
    "test_dataloader = torch.utils.data.DataLoader(test_dataset, batch_size=1, pin_memory=True,\n",
    "                                              shuffle=False, drop_last=False)\n",
    "\n",
    "\n",
    "\n",
    "for i in tqdm(range(len(train_dataloader))):\n",
    "    train_dataset.__getitem__(i)\n",
    "for i in tqdm(range(len(val_dataloader))):\n",
    "    val_dataset.__getitem__(i)\n",
    "for i in tqdm(range(len(test_dataloader))):\n",
    "    test_dataset.__getitem__(i)\n",
    "\n",
    "\n",
    "\n",
    "dataset_sizes = dict()\n",
    "dataset_sizes[\"train\"] = len(train_dataset.imgs)\n",
    "dataset_sizes[\"val\"] = len(val_dataset.imgs)\n",
    "dataset_sizes[\"test\"] = len(test_dataset.imgs)\n",
    "dataset_sizes"
   ]
  },
  {
   "cell_type": "markdown",
   "metadata": {
    "id": "y1qGP1TOiSOn"
   },
   "source": [
    "## 4. Definition of the Model\n",
    "Now we are ready to define our first MLP. For this, let's consider the following model template:\n",
    "```\n",
    "input_layer = nn.Linear(784, 128)\n",
    "hidden1 = nn.Linear(128, 64)\n",
    "output_layer = nn.Linear(64, 10)\n",
    "```\n",
    "In this task, we consider only Fully-Connected Layers. "
   ]
  },
  {
   "cell_type": "code",
   "execution_count": 5,
   "metadata": {
    "id": "m07f2nxGia_o"
   },
   "outputs": [],
   "source": [
    "import torch.nn as nn\n",
    "\n",
    "class Our_first_MLP(nn.Module):\n",
    "    def __init__(self):\n",
    "        super(Our_first_MLP, self).__init__()\n",
    "        \n",
    "        self.input_layer = nn.Linear(784, 128)\n",
    "        self.hidden1 = nn.Linear(128, 64)\n",
    "        self.output_layer = nn.Linear(64, 10)\n",
    "\n",
    "        \n",
    "    def forward(self, x):\n",
    "        x1 = torch.nn.functional.relu(self.input_layer(x))\n",
    "        x2 = torch.nn.functional.relu(self.hidden1(x1))\n",
    "        x_out = torch.nn.functional.relu(self.output_layer(x2))\n",
    "        return x_out\n",
    "\n",
    "        "
   ]
  },
  {
   "cell_type": "markdown",
   "metadata": {
    "id": "fjphN2eIri9V"
   },
   "source": [
    "## 5. Lossfunktion and Defining Hyperparameters.\n"
   ]
  },
  {
   "cell_type": "code",
   "execution_count": 6,
   "metadata": {
    "id": "Vjp0wXskieiZ"
   },
   "outputs": [],
   "source": [
    "device = torch.device(\"cuda:0\" if torch.cuda.is_available() else \"cpu\")\n",
    "\n",
    "model = Our_first_MLP()\n",
    "model = model.to(device)\n",
    "\n",
    "cur_lr = 0.001\n",
    "\n",
    "\n",
    "\n",
    "optimizer = torch.optim.SGD(model.parameters(), lr=cur_lr)\n",
    "# optimizer = torch.optim.Adam(model.parameters(), lr=cur_lr)\n",
    "\n",
    "# Define a reasonable Loss function\n",
    "criterion = nn.CrossEntropyLoss()\n",
    "\n",
    "\n",
    "num_epochs = 15\n"
   ]
  },
  {
   "cell_type": "markdown",
   "metadata": {},
   "source": [
    "## 6. Implement Training und Validation.\n",
    "\n",
    "\n"
   ]
  },
  {
   "cell_type": "code",
   "execution_count": 11,
   "metadata": {
    "id": "Vjp0wXskieiZ"
   },
   "outputs": [],
   "source": [
    "import sys\n",
    "from tqdm import tqdm\n",
    "import copy\n",
    "\n",
    "\n",
    "def train_model(train_dataloader, val_dataloader):\n",
    "    # Initialize best validation loss to a large value and best model weights as current model weights\n",
    "    best_val_loss = sys.float_info.max\n",
    "    best_model_wts = copy.deepcopy(model.state_dict())\n",
    "    for epoch in range(num_epochs):\n",
    "        # Set the model in training mode\n",
    "        phase = 'train'\n",
    "        model.train()\n",
    "        running_loss = 0.0\n",
    "        with torch.set_grad_enabled(phase == 'train'):\n",
    "            # Iterate over the training data\n",
    "            for inputs, labels in tqdm(train_dataloader, leave=True):\n",
    "                # Move data to the device\n",
    "                inputs = inputs.to(device)\n",
    "                labels = labels.to(device)\n",
    "                # Zero the gradients\n",
    "                optimizer.zero_grad()\n",
    "                # Forward pass\n",
    "                outputs = model(inputs)\n",
    "                # Compute the loss\n",
    "                loss = criterion(outputs, labels)\n",
    "                # Backward pass and optimization\n",
    "                loss.backward()\n",
    "                optimizer.step()\n",
    "                # Accumulate the training loss\n",
    "                running_loss += loss.item()\n",
    "            # Compute average training loss and\n",
    "            train_loss = running_loss / len(train_dataloader)\n",
    "            print('Epoch {} train loss: {:.4f}'.format(epoch + 1, train_loss))\n",
    "        \n",
    "        # Set the model in evaluation mode\n",
    "        phase = 'eval'\n",
    "        model.eval()\n",
    "        running_loss = 0.0\n",
    "        with torch.set_grad_enabled(phase == 'eval'):\n",
    "            # Iterate over the validation data\n",
    "            for inputs, labels in tqdm(val_dataloader, leave=True):\n",
    "                # Move data to the device\n",
    "                inputs = inputs.to(device)\n",
    "                labels = labels.to(device)\n",
    "                # Forward pass \n",
    "                outputs = model(inputs)\n",
    "                # Compute the loss\n",
    "                loss = criterion(outputs, labels)\n",
    "                # Accumulate the validation loss\n",
    "                running_loss += loss.item()\n",
    "            # Compute average validation loss\n",
    "            val_loss = running_loss / len(val_dataloader)\n",
    "            print('Epoch {} val loss: {:.4f}'.format(epoch + 1, val_loss))\n",
    "            # Save the model with the best validation loss\n",
    "            if val_loss < best_val_loss:\n",
    "                best_val_loss = val_loss\n",
    "                best_model_wts = copy.deepcopy(model.state_dict())\n",
    "                torch.save(best_model_wts, 'best_model.pth')\n",
    "                print('New best model found and saved.')\n"
   ]
  },
  {
   "cell_type": "markdown",
   "metadata": {},
   "source": [
    "### 6.1. Training durchführen\n",
    "Führen Sie die Trainingsmethode aus."
   ]
  },
  {
   "cell_type": "code",
   "execution_count": 12,
   "metadata": {
    "scrolled": false
   },
   "outputs": [
    {
     "name": "stderr",
     "output_type": "stream",
     "text": [
      "100%|██████████| 42152/42152 [01:07<00:00, 627.97it/s]\n"
     ]
    },
    {
     "name": "stdout",
     "output_type": "stream",
     "text": [
      "Epoch 1 train loss: 0.2919\n"
     ]
    },
    {
     "name": "stderr",
     "output_type": "stream",
     "text": [
      "100%|██████████| 17848/17848 [00:13<00:00, 1295.22it/s]\n"
     ]
    },
    {
     "name": "stdout",
     "output_type": "stream",
     "text": [
      "Epoch 1 val loss: 0.3203\n",
      "New best model found and saved.\n"
     ]
    },
    {
     "name": "stderr",
     "output_type": "stream",
     "text": [
      "100%|██████████| 42152/42152 [01:04<00:00, 654.14it/s]\n"
     ]
    },
    {
     "name": "stdout",
     "output_type": "stream",
     "text": [
      "Epoch 2 train loss: 0.2856\n"
     ]
    },
    {
     "name": "stderr",
     "output_type": "stream",
     "text": [
      "100%|██████████| 17848/17848 [00:13<00:00, 1287.52it/s]\n"
     ]
    },
    {
     "name": "stdout",
     "output_type": "stream",
     "text": [
      "Epoch 2 val loss: 0.3210\n"
     ]
    },
    {
     "name": "stderr",
     "output_type": "stream",
     "text": [
      "100%|██████████| 42152/42152 [00:59<00:00, 712.08it/s]\n"
     ]
    },
    {
     "name": "stdout",
     "output_type": "stream",
     "text": [
      "Epoch 3 train loss: 0.2810\n"
     ]
    },
    {
     "name": "stderr",
     "output_type": "stream",
     "text": [
      "100%|██████████| 17848/17848 [00:13<00:00, 1309.06it/s]\n"
     ]
    },
    {
     "name": "stdout",
     "output_type": "stream",
     "text": [
      "Epoch 3 val loss: 0.3197\n",
      "New best model found and saved.\n"
     ]
    },
    {
     "name": "stderr",
     "output_type": "stream",
     "text": [
      "100%|██████████| 42152/42152 [00:59<00:00, 712.41it/s]\n"
     ]
    },
    {
     "name": "stdout",
     "output_type": "stream",
     "text": [
      "Epoch 4 train loss: 0.2761\n"
     ]
    },
    {
     "name": "stderr",
     "output_type": "stream",
     "text": [
      "100%|██████████| 17848/17848 [00:13<00:00, 1324.63it/s]\n"
     ]
    },
    {
     "name": "stdout",
     "output_type": "stream",
     "text": [
      "Epoch 4 val loss: 0.3193\n",
      "New best model found and saved.\n"
     ]
    },
    {
     "name": "stderr",
     "output_type": "stream",
     "text": [
      "100%|██████████| 42152/42152 [01:06<00:00, 631.70it/s]\n"
     ]
    },
    {
     "name": "stdout",
     "output_type": "stream",
     "text": [
      "Epoch 5 train loss: 0.2722\n"
     ]
    },
    {
     "name": "stderr",
     "output_type": "stream",
     "text": [
      "100%|██████████| 17848/17848 [00:17<00:00, 1047.34it/s]\n"
     ]
    },
    {
     "name": "stdout",
     "output_type": "stream",
     "text": [
      "Epoch 5 val loss: 0.3149\n",
      "New best model found and saved.\n"
     ]
    },
    {
     "name": "stderr",
     "output_type": "stream",
     "text": [
      "100%|██████████| 42152/42152 [01:03<00:00, 664.60it/s]\n"
     ]
    },
    {
     "name": "stdout",
     "output_type": "stream",
     "text": [
      "Epoch 6 train loss: 0.2683\n"
     ]
    },
    {
     "name": "stderr",
     "output_type": "stream",
     "text": [
      "100%|██████████| 17848/17848 [00:15<00:00, 1174.31it/s]\n"
     ]
    },
    {
     "name": "stdout",
     "output_type": "stream",
     "text": [
      "Epoch 6 val loss: 0.3153\n"
     ]
    },
    {
     "name": "stderr",
     "output_type": "stream",
     "text": [
      "100%|██████████| 42152/42152 [01:03<00:00, 665.98it/s]\n"
     ]
    },
    {
     "name": "stdout",
     "output_type": "stream",
     "text": [
      "Epoch 7 train loss: 0.2646\n"
     ]
    },
    {
     "name": "stderr",
     "output_type": "stream",
     "text": [
      "100%|██████████| 17848/17848 [00:16<00:00, 1098.54it/s]\n"
     ]
    },
    {
     "name": "stdout",
     "output_type": "stream",
     "text": [
      "Epoch 7 val loss: 0.3211\n"
     ]
    },
    {
     "name": "stderr",
     "output_type": "stream",
     "text": [
      "100%|██████████| 42152/42152 [00:59<00:00, 711.90it/s]\n"
     ]
    },
    {
     "name": "stdout",
     "output_type": "stream",
     "text": [
      "Epoch 8 train loss: 0.2617\n"
     ]
    },
    {
     "name": "stderr",
     "output_type": "stream",
     "text": [
      "100%|██████████| 17848/17848 [00:14<00:00, 1231.76it/s]\n"
     ]
    },
    {
     "name": "stdout",
     "output_type": "stream",
     "text": [
      "Epoch 8 val loss: 0.3158\n"
     ]
    },
    {
     "name": "stderr",
     "output_type": "stream",
     "text": [
      "100%|██████████| 42152/42152 [01:06<00:00, 635.53it/s]\n"
     ]
    },
    {
     "name": "stdout",
     "output_type": "stream",
     "text": [
      "Epoch 9 train loss: 0.2586\n"
     ]
    },
    {
     "name": "stderr",
     "output_type": "stream",
     "text": [
      "100%|██████████| 17848/17848 [00:16<00:00, 1050.36it/s]\n"
     ]
    },
    {
     "name": "stdout",
     "output_type": "stream",
     "text": [
      "Epoch 9 val loss: 0.3191\n"
     ]
    },
    {
     "name": "stderr",
     "output_type": "stream",
     "text": [
      "100%|██████████| 42152/42152 [01:15<00:00, 557.29it/s]\n"
     ]
    },
    {
     "name": "stdout",
     "output_type": "stream",
     "text": [
      "Epoch 10 train loss: 0.2559\n"
     ]
    },
    {
     "name": "stderr",
     "output_type": "stream",
     "text": [
      "100%|██████████| 17848/17848 [00:16<00:00, 1099.72it/s]\n"
     ]
    },
    {
     "name": "stdout",
     "output_type": "stream",
     "text": [
      "Epoch 10 val loss: 0.3136\n",
      "New best model found and saved.\n"
     ]
    },
    {
     "name": "stderr",
     "output_type": "stream",
     "text": [
      "100%|██████████| 42152/42152 [01:19<00:00, 531.52it/s]\n"
     ]
    },
    {
     "name": "stdout",
     "output_type": "stream",
     "text": [
      "Epoch 11 train loss: 0.2542\n"
     ]
    },
    {
     "name": "stderr",
     "output_type": "stream",
     "text": [
      "100%|██████████| 17848/17848 [00:16<00:00, 1082.67it/s]\n"
     ]
    },
    {
     "name": "stdout",
     "output_type": "stream",
     "text": [
      "Epoch 11 val loss: 0.3185\n"
     ]
    },
    {
     "name": "stderr",
     "output_type": "stream",
     "text": [
      "100%|██████████| 42152/42152 [01:20<00:00, 524.76it/s]\n"
     ]
    },
    {
     "name": "stdout",
     "output_type": "stream",
     "text": [
      "Epoch 12 train loss: 0.2522\n"
     ]
    },
    {
     "name": "stderr",
     "output_type": "stream",
     "text": [
      "100%|██████████| 17848/17848 [00:17<00:00, 1043.67it/s]\n"
     ]
    },
    {
     "name": "stdout",
     "output_type": "stream",
     "text": [
      "Epoch 12 val loss: 0.3194\n"
     ]
    },
    {
     "name": "stderr",
     "output_type": "stream",
     "text": [
      "100%|██████████| 42152/42152 [01:08<00:00, 619.83it/s]\n"
     ]
    },
    {
     "name": "stdout",
     "output_type": "stream",
     "text": [
      "Epoch 13 train loss: 0.2501\n"
     ]
    },
    {
     "name": "stderr",
     "output_type": "stream",
     "text": [
      "100%|██████████| 17848/17848 [00:13<00:00, 1302.10it/s]\n"
     ]
    },
    {
     "name": "stdout",
     "output_type": "stream",
     "text": [
      "Epoch 13 val loss: 0.3152\n"
     ]
    },
    {
     "name": "stderr",
     "output_type": "stream",
     "text": [
      "100%|██████████| 42152/42152 [00:59<00:00, 708.71it/s]\n"
     ]
    },
    {
     "name": "stdout",
     "output_type": "stream",
     "text": [
      "Epoch 14 train loss: 0.2486\n"
     ]
    },
    {
     "name": "stderr",
     "output_type": "stream",
     "text": [
      "100%|██████████| 17848/17848 [00:12<00:00, 1423.52it/s]\n"
     ]
    },
    {
     "name": "stdout",
     "output_type": "stream",
     "text": [
      "Epoch 14 val loss: 0.3181\n"
     ]
    },
    {
     "name": "stderr",
     "output_type": "stream",
     "text": [
      "100%|██████████| 42152/42152 [00:49<00:00, 848.32it/s]\n"
     ]
    },
    {
     "name": "stdout",
     "output_type": "stream",
     "text": [
      "Epoch 15 train loss: 0.2467\n"
     ]
    },
    {
     "name": "stderr",
     "output_type": "stream",
     "text": [
      "100%|██████████| 17848/17848 [00:12<00:00, 1466.31it/s]"
     ]
    },
    {
     "name": "stdout",
     "output_type": "stream",
     "text": [
      "Epoch 15 val loss: 0.3174\n"
     ]
    },
    {
     "name": "stderr",
     "output_type": "stream",
     "text": [
      "\n"
     ]
    }
   ],
   "source": [
    "train_model(train_dataloader, val_dataloader)"
   ]
  },
  {
   "cell_type": "markdown",
   "metadata": {},
   "source": [
    "## 7. Evaluation\n",
    "### 7.1. Calculate the metrics\n",
    "Implement a function that calculates the evaluation metrics of a confusion matrix."
   ]
  },
  {
   "cell_type": "code",
   "execution_count": 39,
   "metadata": {},
   "outputs": [],
   "source": [
    "def calc_metrics(confusion_matrix):\n",
    "    # Initialize variables for true positives, false positives, and false negatives\n",
    "    tp = np.diag(confusion_matrix)\n",
    "    fp = np.sum(confusion_matrix, axis=0) - tp\n",
    "    fn = np.sum(confusion_matrix, axis=1) - tp\n",
    "    # Compute precision, recall, and F1-score\n",
    "    precision = np.nan_to_num(tp / (tp + fp))\n",
    "    recall = np.nan_to_num(tp / (tp + fn))\n",
    "    f1_score = np.nan_to_num(2 * (precision * recall) / (precision + recall))\n",
    "    return precision, recall, f1_score"
   ]
  },
  {
   "cell_type": "markdown",
   "metadata": {
    "id": "bGMPgfmHtT3i"
   },
   "source": [
    "### 7.2. Implement a Test-Funktion \n",
    "The function should work the same way as the validation phase but it should not calculate the loss. This test function will be used later on to in the calculation of the confusion matrix."
   ]
  },
  {
   "cell_type": "code",
   "execution_count": 37,
   "metadata": {
    "id": "EVKFItU9jA0l"
   },
   "outputs": [],
   "source": [
    "import numpy as np\n",
    "from sklearn.metrics import confusion_matrix\n",
    "\n",
    "def test_model(test_dataset, save_data=True):\n",
    "    # Set model to evaluation mode\n",
    "    model.eval()\n",
    "    # Initialize lists to store the true labels and predictions\n",
    "    true_labels = []\n",
    "    pred_labels = []\n",
    "    # Iterate over the data\n",
    "    for inputs, labels in test_dataset:\n",
    "        # Move data to the device\n",
    "        inputs = inputs.to(device)\n",
    "        labels = labels.to(device)\n",
    "        # Get model predictions\n",
    "        outputs = model(inputs)\n",
    "        _, preds = torch.max(outputs, 0)\n",
    "        # Append true labels and predictions to the lists\n",
    "        true_labels.append(labels.item())\n",
    "        pred_labels.append(preds.item())\n",
    "    # Convert the lists to numpy arrays\n",
    "    true_labels = np.array(true_labels)\n",
    "    pred_labels = np.array(pred_labels)\n",
    "    # Compute the confusion matrix\n",
    "    cm = confusion_matrix(true_labels, pred_labels)\n",
    "    return cm"
   ]
  },
  {
   "cell_type": "markdown",
   "metadata": {
    "id": "m9ulmocTw7VL"
   },
   "source": [
    "### 7.3. Run Tests\n",
    "Run the Test und give the Precision, Recall and F1-Score."
   ]
  },
  {
   "cell_type": "code",
   "execution_count": 40,
   "metadata": {},
   "outputs": [
    {
     "name": "stdout",
     "output_type": "stream",
     "text": [
      "[[ 965    0    2    1    0    4    5    1    2    0]\n",
      " [   0 1126    2    1    0    1    2    1    2    0]\n",
      " [   2    5 1013    0    0    0    2    6    4    0]\n",
      " [   2    0    7  990    0    4    0    4    3    0]\n",
      " [   7    1    2    0  962    0    7    2    1    0]\n",
      " [   5    1    2   12    1  854    6    1   10    0]\n",
      " [   3    2    1    1    4    2  942    1    2    0]\n",
      " [   7   10    7    7    1    1    0  993    2    0]\n",
      " [   4    1    4    6    2    4    6    1  946    0]\n",
      " [ 928    6    3   10   19   11    2   12   18    0]]\n",
      "precision: [0.50182007 0.97743056 0.97123682 0.96303502 0.9726997  0.96935301\n",
      " 0.9691358  0.97162427 0.95555556 0.        ]\n",
      "recall: [0.98469388 0.99207048 0.98158915 0.98019802 0.9796334  0.9573991\n",
      " 0.98329854 0.96595331 0.97125257 0.        ]\n",
      "F1_Score: [0.66482949 0.98469611 0.97638554 0.97154073 0.97615424 0.96333897\n",
      " 0.9761658  0.96878049 0.96334012 0.        ]\n"
     ]
    },
    {
     "name": "stderr",
     "output_type": "stream",
     "text": [
      "C:\\Users\\maxko\\AppData\\Local\\Temp\\ipykernel_19492\\2918465507.py:7: RuntimeWarning: invalid value encountered in divide\n",
      "  precision = np.nan_to_num(tp / (tp + fp))\n",
      "C:\\Users\\maxko\\AppData\\Local\\Temp\\ipykernel_19492\\2918465507.py:9: RuntimeWarning: invalid value encountered in divide\n",
      "  f1_score = np.nan_to_num(2 * (precision * recall) / (precision + recall))\n"
     ]
    }
   ],
   "source": [
    "cm = test_model(test_dataset)\n",
    "print(cm)\n",
    "pS, rS, f1S = calc_metrics(cm)\n",
    "print(\"precision:\", pS)\n",
    "print(\"recall:\", rS)\n",
    "print(\"F1_Score:\", f1S)"
   ]
  },
  {
   "cell_type": "markdown",
   "metadata": {},
   "source": [
    "## 8. Visualize the Results\n",
    "Use a Confusion Matrix."
   ]
  },
  {
   "cell_type": "code",
   "execution_count": 42,
   "metadata": {},
   "outputs": [
    {
     "name": "stdout",
     "output_type": "stream",
     "text": [
      "Recall: [0.98469388 0.99207048 0.98158915 0.98019802 0.9796334  0.9573991\n",
      " 0.98329854 0.96595331 0.97125257 0.        ]\n",
      "Precision: [0.50182007 0.97743056 0.97123682 0.96303502 0.9726997  0.96935301\n",
      " 0.9691358  0.97162427 0.95555556 0.        ]\n",
      "F1-Score: [0.66482949 0.98469611 0.97638554 0.97154073 0.97615424 0.96333897\n",
      " 0.9761658  0.96878049 0.96334012 0.        ]\n"
     ]
    },
    {
     "data": {
      "image/png": "[encoded data removed]",
      "text/plain": [
       "<Figure size 1000x700 with 2 Axes>"
      ]
     },
     "metadata": {},
     "output_type": "display_data"
    }
   ],
   "source": [
    "import seaborn as sn\n",
    "import pandas as pd\n",
    "import matplotlib.pyplot as plt\n",
    "\n",
    "df_cm = pd.DataFrame(cm, index = [\"Predicted 0\" ,\"Predicted 1\", \"Predicted 2\",\"Predicted 3\",\"Predicted 4\",\"Predicted 5\",\"Predicted 6\",\"Predicted 7\",\"Predicted 8\",\"Predicted 9\"],\n",
    "                  columns = [\"True 0\", \"True 1\",\"True 2\",\"True 3\",\"True 4\",\"True 5\",\"True 6\",\"True 7\",\"True 8\",\"True 9\"])\n",
    "\n",
    "plt.figure(figsize = (10,7))\n",
    "sn.heatmap(df_cm, annot=True)\n",
    "\n",
    "print(\"Recall: \" + str(rS))\n",
    "\n",
    "print(\"Precision: \" + str(pS))\n",
    "\n",
    "print(\"F1-Score: \" + str(f1S))"
   ]
  },
  {
   "cell_type": "code",
   "execution_count": null,
   "metadata": {},
   "outputs": [],
   "source": []
  }
 ],
 "metadata": {
  "colab": {
   "collapsed_sections": [],
   "name": "2_Übungsblatt_neue_Anordnung_der_Aufgaben(Perzeptron).ipynb",
   "provenance": []
  },
  "kernelspec": {
   "display_name": "Python 3 (ipykernel)",
   "language": "python",
   "name": "python3"
  },
  "language_info": {
   "codemirror_mode": {
    "name": "ipython",
    "version": 3
   },
   "file_extension": ".py",
   "mimetype": "text/x-python",
   "name": "python",
   "nbconvert_exporter": "python",
   "pygments_lexer": "ipython3",
   "version": "3.9.13"
  },
  "vscode": {
   "interpreter": {
    "hash": "c8c6cf85932ebeeacd86c2814c29b6921dc0b7e26ef61cf9829a32a5b7a808e5"
   }
  }
 },
 "nbformat": 4,
 "nbformat_minor": 1
}

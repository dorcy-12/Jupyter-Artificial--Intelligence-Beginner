{
 "cells": [
  {
   "cell_type": "markdown",
   "metadata": {
    "id": "vPejNWjQlg6C"
   },
   "source": [
    "# 5 Train a classifier on the STL-10 dataset\n",
    "In this notebook, we will again implement a classifier in Pytorch, with the difference that this time we will use a CNN instead of an MLP for classification. The dataset we will use is the STL-10 dataset. The STL-10 dataset contains images of airplanes, birds, cats, and more, each with a resolution of $96 \\times 96$ pixels. We chose this dataset so that the training would run on lower performance computers, e.g. those without a graphics card.\n",
    "\n",
    "However, classifiers do not work with the textual description of objects like \"Airplane\", \"Bird\", \"Car\" etc. instead each class is represented with a number. We define this representation first, as this will make things easier for us later. For this we choose the lexicographic sorting of the class names and index according to this order. We store the result in a dictionary (a list would also be sufficient).\n",
    "\n",
    "## 1. Read the Data"
   ]
  },
  {
   "cell_type": "code",
   "execution_count": 1,
   "metadata": {
    "colab": {
     "base_uri": "https://localhost:8080/"
    },
    "id": "AUOmegu7lg6E",
    "outputId": "d694eb27-6744-4a7b-ef49-942ebbb601e7"
   },
   "outputs": [],
   "source": [
    "import os\n",
    "import numpy as np\n",
    "import random\n",
    "import glob\n",
    "\n",
    "import torch\n",
    "import torchvision\n",
    "from torch.utils.data import Dataset\n",
    "\n",
    "# from PIL import Image\n",
    "import cv2\n",
    "\n",
    "from tqdm import tqdm   # Progress-Bar\n",
    "\n",
    "# Setze einen Seed für die Reproduzierbarkeit.\n",
    "torch.manual_seed(1)\n",
    "\n",
    "class_map_idx_to_str = {0: 'airplane',\n",
    "                        1: 'bird', \n",
    "                        2: 'car', \n",
    "                        3: 'cat', \n",
    "                        4: 'deer', \n",
    "                        5: 'dog', \n",
    "                        6: 'horse', \n",
    "                        7: 'monkey', \n",
    "                        8: 'ship', \n",
    "                        9: 'truck'}\n",
    "\n",
    "\n",
    "def seed_everything(seed):\n",
    "    random.seed(seed)\n",
    "    os.environ['PYTHONHASHSEED'] = str(seed)\n",
    "    np.random.seed(seed)\n",
    "    torch.manual_seed(seed)\n",
    "    torch.cuda.manual_seed(seed)\n",
    "    torch.cuda.manual_seed_all(seed)\n",
    "    torch.backends.cudnn.deterministic = True\n",
    "    torch.backends.cudnn.benchmark = False\n",
    "\n",
    "seed_everything(1)\n",
    "\n",
    "# Definiere den Pfad zu den Ordnern train, val und test.\n",
    "root_dir = os.getcwd() + os.sep + \"STL-10_Dataset\\\\\"\n",
    "\n",
    "# Definiere den Pfad zu den trainierten Gewichten.\n",
    "checkpoint_dir = os.getcwd() + os.sep + \"Checkpoints\" + os.sep\n",
    "\n",
    "checkpoint_path = os.getcwd() + \"/Checkpoints/checkpoint.pth.tar\"\n",
    "\n",
    "# Erstelle einen neuen Ordner Checkpoints im aktuellen Verzeichnis.\n",
    "if not os.path.isdir(os.getcwd() + \"/Checkpoints/\"):\n",
    "    os.makedirs(os.getcwd() + \"/Checkpoints/\")\n",
    "\n",
    "# Lade den aktuellen Checkpoint (falls vorhanden), ansonsten erstelle einen neuen.\n",
    "def create_or_load_checkpoint(model, epoch=-1, optimizer=None, last_loss=10**20):\n",
    "    if os.path.isfile(checkpoint_path):\n",
    "        print(\"=> Looking for checkpoint\")\n",
    "        try:\n",
    "            checkpoint = torch.load(checkpoint_path)\n",
    "            epoch = checkpoint['epoch']\n",
    "            print(\"Loaded epoch number is\", epoch)            \n",
    "            last_loss = checkpoint['best_loss']\n",
    "            print(\"Loaded best loss is\", last_loss)\n",
    "            model.load_state_dict(checkpoint['state_dict'], strict=False)\n",
    "            if not optimizer is None:\n",
    "                optimizer.load_state_dict(checkpoint['optimizer'])\n",
    "            print(\"=> Found and loaded checkpoint\")\n",
    "        except:\n",
    "            print(\"Your checkpoint does not contain trained weights. Your old weights will be overwritten.\")\n",
    "            torch.save({'epoch': epoch, 'state_dict': model.state_dict(), 'best_loss': last_loss, 'optimizer': optimizer.state_dict()}, checkpoint_path)\n",
    "    else:\n",
    "        torch.save({'epoch': epoch, 'state_dict': model.state_dict(), 'best_loss': last_loss, 'optimizer': optimizer.state_dict()}, checkpoint_path)\n",
    "        print(\"=> No checkpoint found. You have to train first.\")\n",
    "    return epoch, last_loss"
   ]
  },
  {
   "cell_type": "markdown",
   "metadata": {
    "id": "pFH87zj5lg6F"
   },
   "source": [
    "## 2. Bilder laden und Exkurs zu Augmentierungen (ToDo + Bonusaufgabe)\n",
    "Im folgenden Abschnitt laden wir die Bilder. Wenn Sie die Bonusaufgabe machen möchten, sollen die Bilder nicht mehr nur im originalen Zustand dem Training übergeben werden, sondern die Bilder sollen zovor augmentiert werden. Das heißt, die Bilder sollen mit einer Wahrscheinlichkeit von:\n",
    " * 75% rotiert werden. Die Rotation soll im Bereich -15 bis +15 Grad liegen. (2 Punkte)\n",
    " * 50% an der vertikalen Achse gespiegelt werden. (1 Punkt)\n",
    "\n",
    "Weitere gängige Augmentierungsmethoden, die Sie freiwillig implementieren können, sind z.B.\n",
    "1. Änderung in Helligkeit, Sättigung und Farbwert: verwende HSV statt RGB und ändere H (Hue), S (Saturation) und V (Value)\n",
    "2. Verschiebung: Bild wird etwas nach oben, unten, links oder rechts verschoben.\n",
    "3. Skalierung: Bild wird vergrößert oder verkleinert\n",
    "4. Scherung: Bild wird geschert: Eine Seite bleibt fest, die gegenüberliegende Seite wird verschoben\n",
    "5. Crops: Statt dem gesamten Bild werden dem Modell nur Teile des Bildes gezeigt (meist zufällige Bildausschnitte und mehrere)\n",
    "6. Rauschen: Auf das Bild wird ein verrauschtes Array addiert\n",
    "\n",
    "Die Idee der Augmentierung ist, dass man künstlich die Anzahl der Eingabebilder vergrößert. Mittlerweile ist man so weit, dass man neuronale Netze verwendet, sogenannte GANs (Generative Adversarial Network), die für einen gegebenen Datensatz, die Verteilung dieses Datensatzes lernen. Dadurch lassen sich ähnliche, täuschend echte Bilder erzeugen, die wiederum für ein anderes Netz verwendet werden können. Diese Technik verwendet man häufig bei Daten für die es sehr schwer ist gelabelte Daten zu bekommen, z.B. Sensordaten für Aktivitätserkennung."
   ]
  },
  {
   "cell_type": "code",
   "execution_count": 2,
   "metadata": {
    "id": "Y5uhmtUVlg6G"
   },
   "outputs": [],
   "source": [
    "class Simple_Dataloader(Dataset):\n",
    "    def __init__(self, root_dir, loader_mode):\n",
    "        self.root_dir = root_dir\n",
    "        self.loader_mode = loader_mode\n",
    "        # ToDo\n",
    "\n",
    "    def __len__(self):\n",
    "        # ToDo\n",
    "\n",
    "    def __getitem__(self, idx):\n",
    "        # ToDo\n",
    "\n"
   ]
  },
  {
   "cell_type": "markdown",
   "metadata": {},
   "source": [
    "## 2. Dataset zu Dataloader (nothing ToDo)\n",
    "Wir übergeben das Dataset dem Dataloader."
   ]
  },
  {
   "cell_type": "code",
   "execution_count": 3,
   "metadata": {},
   "outputs": [
    {
     "name": "stderr",
     "output_type": "stream",
     "text": [
      "  7%|███████▍                                                                                                       | 284/4250 [00:00<00:01, 2839.37it/s]"
     ]
    },
    {
     "name": "stdout",
     "output_type": "stream",
     "text": [
      "Cache Data:\n"
     ]
    },
    {
     "name": "stderr",
     "output_type": "stream",
     "text": [
      "100%|██████████████████████████████████████████████████████████████████████████████████████████████████████████████| 4250/4250 [00:01<00:00, 2728.34it/s]\n",
      "100%|████████████████████████████████████████████████████████████████████████████████████████████████████████████████| 250/250 [00:00<00:00, 2701.97it/s]\n",
      "100%|████████████████████████████████████████████████████████████████████████████████████████████████████████████████| 500/500 [00:00<00:00, 2731.59it/s]\n"
     ]
    },
    {
     "data": {
      "text/plain": [
       "{'train': 4250, 'val': 250, 'test': 500}"
      ]
     },
     "execution_count": 3,
     "metadata": {},
     "output_type": "execute_result"
    }
   ],
   "source": [
    "batch_size_train = 8 # 88\n",
    "batch_size_val = 1\n",
    "\n",
    "print(\"Cache Data:\")\n",
    "\n",
    "train_dataset = Simple_Dataloader(root_dir=root_dir, loader_mode=\"train\")\n",
    "val_dataset = Simple_Dataloader(root_dir=root_dir, loader_mode=\"val\")\n",
    "test_dataset = Simple_Dataloader(root_dir=root_dir, loader_mode=\"test\")\n",
    "\n",
    "\n",
    "train_dataloader = torch.utils.data.DataLoader(train_dataset, batch_size=batch_size_train, pin_memory=True,\n",
    "                                               shuffle=True, drop_last=False)\n",
    "\n",
    "val_dataloader = torch.utils.data.DataLoader(val_dataset, batch_size=batch_size_val, pin_memory=True,\n",
    "                                             shuffle=False, drop_last=True)\n",
    "\n",
    "test_dataloader = torch.utils.data.DataLoader(test_dataset, batch_size=1, pin_memory=True,\n",
    "                                              shuffle=False, drop_last=False)\n",
    "\n",
    "dataset_sizes = dict()\n",
    "dataset_sizes[\"train\"] = len(train_dataset.imgs_and_lbls)\n",
    "dataset_sizes[\"val\"] = len(val_dataset.imgs_and_lbls)\n",
    "dataset_sizes[\"test\"] = len(test_dataset.imgs_and_lbls)\n",
    "dataset_sizes"
   ]
  },
  {
   "cell_type": "markdown",
   "metadata": {
    "id": "sQnqIs97lg6H"
   },
   "source": [
    "## 3. Plotten von Zwischenergebnissen (nothing ToDo)\n",
    "Später, während des Trainings und der Validierung, möchten wir gerne einige Zwischenergebnisse sehen. Hierfür verwenden wir die nachfolgende Methode. Dabei wird in Ihrem Verzeichnis ein Ordner mit dem Namen *Some Results [YYYY-MM-DD HH_MM_SS]* (Zeitstempel kommt von oben) angelegt. Darin finden Sie nach ausreichend langem Training, zwei Unterordner *train* und *val*. Beide Unterordner enthalten die Zwischenergebnisse. Die Dateinamen sehen wie folgt aus:\n",
    "  \n",
    "<br>\n",
    "<center>Epoch_e;cls_i.png</center>\n",
    "\n",
    "und bedeuten, dass das gezeigte Bild in der Epoche e, Iteration i, als Klasse cls klassifiziert wurde.\n",
    "<br>  \n",
    "<br>  \n",
    "<br>  \n",
    "\n",
    "### 3.1 Pytorch Tensoren und ihre Dimensionsreihenfolge (nothing ToDo)\n",
    "Ein Pytorch Tensor hat in der Regel folgende shape:\n",
    "\n",
    "<br>\n",
    "<center>[batch_size, num_channels, height, width]</center>\n",
    "\n",
    "Das heißt, um ein RGB Bild zu plotten müssen wir uns erst einmal für einen Batchindex entscheiden. Um unnötigen Ärger mit nichtvorhandenen Indizes zu vermeiden, wählen wir im nächsten Abschnitt *batch_idx = 0*, somit bekommen wir auch keinen Fehler, selbst wenn wir mit einer Minibatch von *batch_size = 1* trainieren. Folglich ist *inp* von der Form:\n",
    "\n",
    "<br>\n",
    "<center>[num_channels, height, width]</center>\n",
    "\n",
    "Ein weiterer Unterschied bezüglich der Dimensionsreihenfolge zwischen der Pytorch Tensoren und numpy Arrays ist, dass bei numpy Arrays die Channels am Ende stehen. Um diese Reihenfolge anzupassen, verwenden wir im folgenden:\n",
    "\n",
    "<br>\n",
    "<center>inp.transpose((1, 2, 0))</center>\n",
    "\n",
    "Das heißt die erste Dimension wird an die nullte Dimension, die zeite Dimension an die erste Dimension und die nullte an die zweite Dimension verschoben. Oft spricht man auch von *channel first* oder *channel last*.\n",
    "\n",
    "<br>\n",
    "Da die Pytorch Tensoren Float-Tensoren sind, enthalten die Channels Werte zwischen 0 und 1. Wenn wir aber mit PIL (Pillow) ein Bild speichern möchten, müssen wir den Tensor zu einem uint8 Format casten (Restklassenring Z/256Z) und sicherstellen, dass die Werte zwischen 0 und 255 liegen."
   ]
  },
  {
   "cell_type": "code",
   "execution_count": 4,
   "metadata": {
    "id": "XXrosxRelg6H"
   },
   "outputs": [],
   "source": [
    "def plot_some_results(inputs, preds, class_map, img_counter, epoch, phase):\n",
    "    batch_idx = 0\n",
    "    \n",
    "    # Den Teil \".cpu().detach()\" brauchen wir hier nicht unbedingt, da wir nicht auf einer Grafikkarte arbeiten.\n",
    "    # Könnte aber für alle interessant sein, die das Zuhause auf ihrem eigenen PC mit GPU Unterstüzung laufen lassen.\n",
    "    inp = np.array(inputs.cpu().detach().numpy()[batch_idx], dtype=np.float32)\n",
    "    \n",
    "    means = [0.485, 0.456, 0.406]\n",
    "    stds = [0.229, 0.224, 0.225]\n",
    "    \n",
    "    # Da die Bilder zuvor normalisiert wurden, müssen wir dies erst rückgängig machen.\n",
    "    for channel in range(3):\n",
    "        inp[channel] = inp[channel] * stds[channel] + means[channel]\n",
    "        inp[channel] = np.minimum(np.maximum(inp[channel], 0), 1)    \n",
    "    \n",
    "    inp = np.array(inp.transpose((1, 2, 0)) * 255.0, dtype=np.uint8)\n",
    "    class_name = class_map[int(preds[batch_idx])]\n",
    "\n",
    "    save_dir_results = os.getcwd() + os.sep + \"Results\" + os.sep + phase + os.sep\n",
    "\n",
    "    if not os.path.isdir(save_dir_results):\n",
    "        os.makedirs(save_dir_results)\n",
    "    \n",
    "    save_path = save_dir_results + \"Epoch_\" + str(epoch) + \";\" + class_name + \"_\" + str(img_counter) + \".png\"\n",
    "    cv2.imwrite(save_path, inp)\n",
    "    img_counter += 1"
   ]
  },
  {
   "cell_type": "markdown",
   "metadata": {
    "id": "GCE3mtVvlg6I"
   },
   "source": [
    "## 4. Convolutional Neural Network definieren (ToDo)\n",
    "Im folgenden betrachten wir drei Modelle\n",
    "\n",
    "0. Small_Model\n",
    "1. Our_First_CNN\n",
    "2. ResNet34\n",
    "\n",
    "Das *Small_Model* soll Ihnen Hilfestellung geben, wie ein CNN implementiert werden kann. Dabei wurden einige aus der Vorlesung bekannte Konzepte wie z.B. die Convolution Operation (```nn.Conv2d```), Dropout (```nn.Dropout```), Fully-Connected-Layer (```nn.Linear```), Pooling-Layer (z.B. Max-Pooling ```nn.MaxPool2d```) und eine Aktivierungsfunktion (z.B. ```nn.ReLU```) verwendet.\n",
    "\n",
    "Das *ResNet34* ist ein vordefiniertes CNN mit dem oft erstaunlich gute Ergebnisser erzielt werden können. Es soll als Vergleichsmodell dienen.\n",
    "\n",
    "Außerdem gibt es noch das *Our_First_CNN*. Sie können diese Klasse als Vorlage verwenden um ihr eigenes CNN zu implementieren. \n",
    "\n",
    "<br>  \n",
    "Bei vordefinierten Modellen wie z.B. AlexNet, ResNet oder GoogleNet können wir vortrainierte Gewichte verwenden. Das tolle an vortrainierten Modellen bzw. Gewichten ist, dass es keine große Rolle spielt ob sie zuvor ähnliche Objekte gesehen haben. Wir könnten z.B. ein Modell auf verschiedene Hundearten vortrainieren und später verwenden um das gleiche Modell zu verwenden um Schiffe von Autos zu unterscheiden. Diese Technik nennt sich Transfer-Learning. Der Grund, weshalb das funktioniert liegt daran, dass tiefe Netze viele verschiedene Arten von Features lernen. Diese Feature können wenig komplex sein z.B. Linien und Kurven (häufig in den ersten Layern) bis hin zu sehr komplexen Features wie z.B. die Schnautze eines Labradors oder die Ohren eines Luchses (oft in den letzten Layern).\n",
    "\n",
    "Wenn Sie also ein anderes vordefiniertes Modell ausprobieren möchten sollten Sie den Parameter `pretrained` auf `True` setzen. Die Datensätze auf denen zuvor trainiert wurde, haben meist nicht die gleiche Anzahl an Klassen, wie wir sie benötigen. Daher schneiden wir den letzten Layer ab und setzen einen neuen Layer mit der von uns benötigten Anzahl an Klassen bzw Neuronen dran. Der letzte Layer ist bei Klassifizierern in der Regel ein Fully-Connected Layer. Die neu zugewiesene Gewichte kennen wir natürlich nicht und wählen daher eine zufällige Belegung.\n",
    "\n",
    "### ToDo\n",
    "Ihre Aufgabe ist es also die Klasse *Our_First_CNN* so zu implementieren, dass ein Modell entsteht das besser ist als das *Small_Model*."
   ]
  },
  {
   "cell_type": "code",
   "execution_count": 5,
   "metadata": {
    "id": "kLCooXfzlg6I"
   },
   "outputs": [],
   "source": [
    "import torch.nn as nn\n",
    "import torch.nn.functional as F\n",
    "\n",
    "which_model = 2\n",
    "\n",
    "class Small_Model(nn.Module):\n",
    "    def __init__(self):\n",
    "        super().__init__()\n",
    "        self.conv1 = nn.Conv2d(in_channels=3, out_channels=64, kernel_size=(5, 5), stride=(1, 1), padding=(0, 0), bias=False)\n",
    "        self.dropout = nn.Dropout(0.33)\n",
    "        self.relu1 = nn.ReLU(inplace=True)\n",
    "        self.pool1 = nn.MaxPool2d(2, 2)\n",
    "\n",
    "        self.fc1 = nn.Linear(64 * 46 * 46, 128)\n",
    "        self.fc2 = nn.Linear(128, 10)\n",
    "\n",
    "    def forward(self, x):\n",
    "        x = self.pool1(self.relu1(self.dropout(self.conv1(x))))\n",
    "        x = torch.flatten(x, 1) # flatte alle Dimensionen außer der Batch\n",
    "        x = torch.relu(self.fc1(x))\n",
    "        x = self.fc2(x)\n",
    "        return x\n",
    "\n",
    "    \n",
    "class Our_First_CNN(nn.Module):\n",
    "    def __init__(self):\n",
    "        super().__init__()\n",
    "        self.conv1 = nn.Conv2d(in_channels=3, out_channels=64, kernel_size=(7, 7), stride=(1, 1), padding=(0, 0))\n",
    "\n",
    "        self.conv2 = nn.Conv2d(in_channels=64, out_channels=128, kernel_size=(5, 5), stride=(1, 1), padding=(0, 0), bias=False)\n",
    "        self.pool2 = nn.MaxPool2d(2, 2)\n",
    "\n",
    "        self.conv3 = nn.Conv2d(in_channels=128, out_channels=256, kernel_size=(3, 3), stride=(1, 1), padding=(0, 0), bias=False)\n",
    "\n",
    "\n",
    "        self.conv4 = nn.Conv2d(in_channels=256, out_channels=512, kernel_size=(3, 3), stride=(1, 1), padding=(0, 0), bias=False)\n",
    "        self.pool4 = nn.MaxPool2d(2, 2)\n",
    "\n",
    "        self.fc1 = nn.Linear(512 * 19 * 19, 512)\n",
    "        self.fc2 = nn.Linear(512, 10)\n",
    "\n",
    "    def forward(self, x):\n",
    "        # print(\"x.size (1) =\", x.shape)\n",
    "        x = torch.relu(self.conv1(x))\n",
    "        x = self.pool2(torch.relu(self.conv2(x)))\n",
    "        x = torch.relu(self.conv3(x))\n",
    "        x = self.pool4(torch.relu(self.conv4(x)))\n",
    "\n",
    "        x = torch.flatten(x, 1) # flatte alle Dimensionen außer der Batch\n",
    "        x = torch.relu(self.fc1(x))\n",
    "        x = self.fc2(x)\n",
    "        return x\n",
    "\n",
    "    \n",
    "def resnet34(pretrained, num_classes=1000):\n",
    "    # Lade das ResNet34\n",
    "    model = torchvision.models.resnet34(pretrained=pretrained)\n",
    "    \n",
    "    # Die Anzahl der eingehenden Neuronen in den letzten Layer des ResNet34 werden in der Variable num_features gespeichert.\n",
    "    num_features = model.fc.in_features\n",
    "    \n",
    "    # Ändere die Anzahl ausgehender Neuronen im letzten Layer des ResNet34, indem ein neuer Fully-Connected Layer \n",
    "    # zugewiesen wird.\n",
    "    model.fc = torch.nn.Linear(num_features, num_classes)\n",
    "    return model"
   ]
  },
  {
   "cell_type": "markdown",
   "metadata": {
    "id": "04_GyPc6lg6I"
   },
   "source": [
    "## 5. Implementieren der Trainingsmethode (ToDo)\n",
    "Im folgenden sollen Sie die Trainingsmethode implementieren. \n",
    "Hinweis: Sie können im Prinzip die Trainingsmethode aus dem letzen Übungsblatt verwenden und Kleinigkeiten anpassen, wie z.B. das verwendete Modell. Auch folgenden Tutorials könnten hilfreich sein:\n",
    "1. [Ein Tutorial über Transferlearning, am Beispiel von Bienen und Ameisen](https://pytorch.org/tutorials/beginner/transfer_learning_tutorial.html#training-the-model)\n",
    "2. [Training eines Klassifizierers, am Beispiel von Cifar10](https://pytorch.org/tutorials/beginner/blitz/cifar10_tutorial.html#train-the-network)"
   ]
  },
  {
   "cell_type": "code",
   "execution_count": 6,
   "metadata": {
    "id": "qu00xBSYlg6J"
   },
   "outputs": [],
   "source": [
    "import torch.optim as optim\n",
    "from torch.optim import lr_scheduler\n",
    "import sys\n",
    "\n",
    "# Wenn Sie eine NVIDIA Grafikkarte besitzen und CUDA installiert ist, können Sie diesen Wert zu \"cuda\" ändern.\n",
    "# device = \"cpu\"\n",
    "device = \"cuda\"\n",
    "\n",
    "\n",
    "def train_model(num_epochs=100):\n",
    "\n",
    "    if which_model == 0:\n",
    "        model = Small_Model()\n",
    "    elif which_model == 1:\n",
    "        model = Our_First_CNN()\n",
    "    else:\n",
    "        model = resnet34(pretrained=True, num_classes=len(class_map_idx_to_str))\n",
    "        \n",
    "    model = model.to(device)\n",
    "\n",
    "\n",
    "    # ToDo\n",
    "\n",
    "\n"
   ]
  },
  {
   "cell_type": "markdown",
   "metadata": {
    "id": "4u8itY_Flg6K"
   },
   "source": [
    "## 6. Evaluieren des trainierten Modells (ToDo)\n",
    "Vervollständigen Sie die Methode test_classifier() so, dass eine Confusion Matrix für alle Testbilder berechnet und visualsiert wird. In *all_imgs* sind alle Pfade zu den Testbildern zu finden.  \n",
    "<br>"
   ]
  },
  {
   "cell_type": "code",
   "execution_count": 15,
   "metadata": {
    "id": "6HQZsWrSlg6K"
   },
   "outputs": [],
   "source": [
    "import matplotlib.pyplot as plt\n",
    "\n",
    "def test_model(test_dataloader):\n",
    "    \n",
    "    # ToDo"
   ]
  },
  {
   "cell_type": "markdown",
   "metadata": {
    "id": "zI6eAtlHlg6L"
   },
   "source": [
    "## 7. Training und Valdierung starten (ToDo)\n",
    "Starten Sie nun das Training."
   ]
  },
  {
   "cell_type": "code",
   "execution_count": 8,
   "metadata": {
    "colab": {
     "base_uri": "https://localhost:8080/",
     "height": 748
    },
    "id": "kaZcgM07lg6L",
    "outputId": "8e9c7c6e-f24d-4ca7-ef1d-fe694e4c723a",
    "scrolled": true
   },
   "outputs": [
    {
     "name": "stdout",
     "output_type": "stream",
     "text": [
      "checkpoint_path = D:\\Dropbox\\DFKI (Arbeit)\\Vorlesungen\\Kuenstliche Intelligenz\\2022_2023\\Exercise Sheets_22_23\\5. Exercise Sheet\\Notebooks/Checkpoints/checkpoint.pth.tar\n",
      "=> No checkpoint found. You have to train first.\n",
      "Current learning rate: 0.01\n",
      "Epoch 0/10\n",
      "-------------------------\n",
      "Iteration 531 of 532 Loss: 4.1828\n",
      "train Loss: 1.0482\n",
      "Iteration 249 of 250 Loss: 0.8352\n",
      "val Loss: 0.8359\n",
      "\t--------- ********************************* ---------\n",
      "\t--------- *** New best Validation score *** ---------\n",
      "\t--------- ********************************* ---------\n",
      "Saving model weights. Do not interrupt the saving-process ... done.\n",
      "\n",
      "Current learning rate: 0.009000000000000001\n",
      "Epoch 1/10\n",
      "-------------------------\n",
      "Iteration 531 of 532 Loss: 2.0989\n",
      "train Loss: 0.5257\n",
      "Iteration 249 of 250 Loss: 0.4686\n",
      "val Loss: 0.4686\n",
      "\t--------- ********************************* ---------\n",
      "\t--------- *** New best Validation score *** ---------\n",
      "\t--------- ********************************* ---------\n",
      "Saving model weights. Do not interrupt the saving-process ... done.\n",
      "\n",
      "Current learning rate: 0.008100000000000001\n",
      "Epoch 2/10\n",
      "-------------------------\n",
      "Iteration 531 of 532 Loss: 1.0588\n",
      "train Loss: 0.2658\n",
      "Iteration 249 of 250 Loss: 0.8346\n",
      "val Loss: 0.8350\n",
      "\n",
      "Current learning rate: 0.007290000000000001\n",
      "Epoch 3/10\n",
      "-------------------------\n",
      "Iteration 531 of 532 Loss: 0.6178\n",
      "train Loss: 0.1549\n",
      "Iteration 249 of 250 Loss: 0.5077\n",
      "val Loss: 0.5078\n",
      "\n",
      "Current learning rate: 0.006561000000000002\n",
      "Epoch 4/10\n",
      "-------------------------\n",
      "Iteration 531 of 532 Loss: 0.4084\n",
      "train Loss: 0.1023\n",
      "Iteration 249 of 250 Loss: 0.6385\n",
      "val Loss: 0.6385\n",
      "\n",
      "Current learning rate: 0.005904900000000002\n",
      "Epoch 5/10\n",
      "-------------------------\n",
      "Iteration 531 of 532 Loss: 0.2481\n",
      "train Loss: 0.0639\n",
      "Iteration 249 of 250 Loss: 0.6463\n",
      "val Loss: 0.6463\n",
      "\n",
      "Current learning rate: 0.005314410000000002\n",
      "Epoch 6/10\n",
      "-------------------------\n",
      "Iteration 531 of 532 Loss: 0.2231\n",
      "train Loss: 0.0579\n",
      "Iteration 249 of 250 Loss: 0.6485\n",
      "val Loss: 0.6496\n",
      "\n",
      "Current learning rate: 0.004782969000000002\n",
      "Epoch 7/10\n",
      "-------------------------\n",
      "Iteration 531 of 532 Loss: 0.1566\n",
      "train Loss: 0.0393\n",
      "Iteration 249 of 250 Loss: 0.6271\n",
      "val Loss: 0.6272\n",
      "\n",
      "Current learning rate: 0.004304672100000002\n",
      "Epoch 8/10\n",
      "-------------------------\n",
      "Iteration 531 of 532 Loss: 0.1057\n",
      "train Loss: 0.0285\n",
      "Iteration 249 of 250 Loss: 0.6619\n",
      "val Loss: 0.6619\n",
      "\n",
      "Current learning rate: 0.003874204890000002\n",
      "Epoch 9/10\n",
      "-------------------------\n",
      "Iteration 531 of 532 Loss: 0.1105\n",
      "train Loss: 0.0277\n",
      "Iteration 249 of 250 Loss: 0.5919\n",
      "val Loss: 0.5919\n",
      "\n",
      "Current learning rate: 0.003486784401000002\n",
      "Epoch 10/10\n",
      "-------------------------\n",
      "Iteration 531 of 532 Loss: 0.0743\n",
      "train Loss: 0.0186\n",
      "Iteration 249 of 250 Loss: 0.5575\n",
      "val Loss: 0.5575\n",
      "\n",
      "Best loss Acc: 0.468627\n"
     ]
    }
   ],
   "source": [
    "# ToDo"
   ]
  },
  {
   "cell_type": "markdown",
   "metadata": {},
   "source": [
    "Testen Sie Ihr Model."
   ]
  },
  {
   "cell_type": "code",
   "execution_count": null,
   "metadata": {
    "id": "m7D0gxFMlg6M",
    "outputId": "bed3efc4-7d89-4e0c-9c44-c97e2356b858"
   },
   "outputs": [],
   "source": [
    "# ToDo"
   ]
  },
  {
   "cell_type": "markdown",
   "metadata": {
    "id": "f4SxUCoElg6M"
   },
   "source": [
    "## 8. Metriken berechnen (ToDo)\n",
    "Berechnen Sie die Precision, Recall und $F_1$-Score und visualisieren Sie die Confusion Matrix."
   ]
  },
  {
   "cell_type": "code",
   "execution_count": 18,
   "metadata": {},
   "outputs": [],
   "source": [
    "# ToDo"
   ]
  },
  {
   "cell_type": "markdown",
   "metadata": {},
   "source": [
    "## 9. Ergebnisse visualisieren\n",
    "Visualisieren Sie Ihre Ergebnisse in einer Confusion Matrix."
   ]
  },
  {
   "cell_type": "code",
   "execution_count": 19,
   "metadata": {
    "id": "KiFfzslrlg6N"
   },
   "outputs": [
    {
     "name": "stdout",
     "output_type": "stream",
     "text": [
      "TP_cls_i = 43.0\n",
      "FP_cls_i = 3.0\n",
      "FN_cls_i = 7.0\n",
      "Recall_i = 0.86\n",
      "Precision_i = 0.9347826086956522\n",
      "F1_i = 0.8958333333333334\n",
      "TP_cls_i = 44.0\n",
      "FP_cls_i = 3.0\n",
      "FN_cls_i = 6.0\n",
      "Recall_i = 0.88\n",
      "Precision_i = 0.9361702127659575\n",
      "F1_i = 0.9072164948453608\n",
      "TP_cls_i = 45.0\n",
      "FP_cls_i = 1.0\n",
      "FN_cls_i = 5.0\n",
      "Recall_i = 0.9\n",
      "Precision_i = 0.9782608695652174\n",
      "F1_i = 0.9375\n",
      "TP_cls_i = 30.0\n",
      "FP_cls_i = 11.0\n",
      "FN_cls_i = 20.0\n",
      "Recall_i = 0.6\n",
      "Precision_i = 0.7317073170731707\n",
      "F1_i = 0.6593406593406594\n",
      "TP_cls_i = 40.0\n",
      "FP_cls_i = 7.0\n",
      "FN_cls_i = 10.0\n",
      "Recall_i = 0.8\n",
      "Precision_i = 0.851063829787234\n",
      "F1_i = 0.8247422680412372\n",
      "TP_cls_i = 31.0\n",
      "FP_cls_i = 14.0\n",
      "FN_cls_i = 19.0\n",
      "Recall_i = 0.62\n",
      "Precision_i = 0.6888888888888889\n",
      "F1_i = 0.6526315789473685\n",
      "TP_cls_i = 44.0\n",
      "FP_cls_i = 15.0\n",
      "FN_cls_i = 6.0\n",
      "Recall_i = 0.88\n",
      "Precision_i = 0.7457627118644068\n",
      "F1_i = 0.8073394495412843\n",
      "TP_cls_i = 44.0\n",
      "FP_cls_i = 15.0\n",
      "FN_cls_i = 6.0\n",
      "Recall_i = 0.88\n",
      "Precision_i = 0.7457627118644068\n",
      "F1_i = 0.8073394495412843\n",
      "TP_cls_i = 50.0\n",
      "FP_cls_i = 4.0\n",
      "FN_cls_i = 0.0\n",
      "Recall_i = 1.0\n",
      "Precision_i = 0.9259259259259259\n",
      "F1_i = 0.9615384615384615\n",
      "TP_cls_i = 46.0\n",
      "FP_cls_i = 10.0\n",
      "FN_cls_i = 4.0\n",
      "Recall_i = 0.92\n",
      "Precision_i = 0.8214285714285714\n",
      "F1_i = 0.8679245283018867\n",
      "average_Precision, average_Recall, average_F1 = 0.8359753647859431 0.834 0.8321406223430877\n"
     ]
    },
    {
     "data": {
      "image/png": "[encoded data removed]",
      "text/plain": [
       "<Figure size 864x864 with 2 Axes>"
      ]
     },
     "metadata": {
      "needs_background": "light"
     },
     "output_type": "display_data"
    }
   ],
   "source": [
    "# ToDo"
   ]
  },
  {
   "cell_type": "code",
   "execution_count": null,
   "metadata": {},
   "outputs": [],
   "source": []
  }
 ],
 "metadata": {
  "accelerator": "GPU",
  "colab": {
   "collapsed_sections": [],
   "name": "STL-10.ipynb",
   "provenance": []
  },
  "kernelspec": {
   "display_name": "Python 3 (ipykernel)",
   "language": "python",
   "name": "python3"
  },
  "language_info": {
   "codemirror_mode": {
    "name": "ipython",
    "version": 3
   },
   "file_extension": ".py",
   "mimetype": "text/x-python",
   "name": "python",
   "nbconvert_exporter": "python",
   "pygments_lexer": "ipython3",
   "version": "3.9.13"
  }
 },
 "nbformat": 4,
 "nbformat_minor": 1
}
